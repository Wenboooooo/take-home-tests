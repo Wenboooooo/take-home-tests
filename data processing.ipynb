{
 "cells": [
  {
   "cell_type": "markdown",
   "id": "744e5de4-a67c-4b0a-a0e1-01b3dd74051c",
   "metadata": {},
   "source": [
    "# JSON File Format Description\n",
    "\n",
    "The generated JSON file is a list containing multiple question-answer pairs, where each pair has the following attributes:\n",
    "\n",
    "## Data Format\n",
    "\n",
    "```json\n",
    "[\n",
    "  {\n",
    "    \"id\": \"<unique_identifier>\",\n",
    "    \"Headline\": \"<headline_text>\",\n",
    "    \"Question\": \"<question_text>\",\n",
    "    \"Answer\": \"<answer_text>\"\n",
    "  },\n",
    "  ...\n",
    "]\n"
   ]
  },
  {
   "cell_type": "markdown",
   "id": "10a61b8f-5f64-441f-aaa9-4b7b29bdf4a2",
   "metadata": {},
   "source": [
    "## Attribute Descriptions\n",
    "\n",
    "- **id**:  \n",
    "  A unique identifier for each question-answer pair, formatted as `{row_number}-{qa_number}`, used to distinguish different pairs.\n",
    "\n",
    "- **Headline**:  \n",
    "  The headline extracted from the original data, which is the text before the question that starts with `Does`.\n",
    "\n",
    "- **Question**:  \n",
    "  The actual question extracted, starting with `Does` and ending with a `?`.\n",
    "\n",
    "- **Answer**:  \n",
    "  The answer to the extracted question, which could be `Yes`, `No`, or `Not Given` (when no answer is found).\n"
   ]
  },
  {
   "cell_type": "code",
   "execution_count": 123,
   "id": "d1fc813d-3741-4354-ae4f-a63651dcf8af",
   "metadata": {},
   "outputs": [
    {
     "name": "stdout",
     "output_type": "stream",
     "text": [
      "Total time taken for dataset cleanup and transformation: 7.58 seconds\n",
      "Total number of question-answer pairs: 123282\n"
     ]
    }
   ],
   "source": [
    "import re\n",
    "import json\n",
    "import pandas as pd\n",
    "import time\n",
    "\n",
    "# Record start time\n",
    "start_time = time.time()\n",
    "\n",
    "# Load the dataset\n",
    "df = pd.read_json(\"hf://datasets/AdaptLLM/finance-tasks/Headline/test.json\")\n",
    "\n",
    "# Store the extracted results\n",
    "output_data = []\n",
    "\n",
    "# Regular expression to match questions that start with \"Does\" and end with \"?\", and search for \"Yes\" or \"No\" within 30 characters after the question mark\n",
    "qa_pattern = re.compile(r'(Does.*?\\?)([\\s\\S]{0,30})(Yes|No)?')\n",
    "\n",
    "\n",
    "# Process each row of the dataset\n",
    "for idx, row in df.iterrows():\n",
    "    input_text = row['input']\n",
    "    \n",
    "    while True:\n",
    "        # Find the question that starts with \"Does\" and capture the text before \"Does\" as the Headline\n",
    "        does_pos = input_text.find('Does')\n",
    "        if does_pos == -1:\n",
    "            break  # If \"Does\" is not found, exit the loop\n",
    "        \n",
    "        headline = input_text[:does_pos].strip()  # Extract the text before \"Does\" as Headline\n",
    "        input_text = input_text[does_pos:]  # Process the remaining part starting from \"Does\"\n",
    "        \n",
    "        # Match the Question and possible Answer\n",
    "        match = qa_pattern.search(input_text)\n",
    "        if match:\n",
    "            question = match[1].strip()  # Extract the matched Question\n",
    "            \n",
    "            # Find all possible answers (Yes/No)\n",
    "            possible_answers = list(re.finditer(r'(Yes|No)', match[2], re.IGNORECASE))\n",
    "           \n",
    "            if possible_answers:\n",
    "                last_match = possible_answers[-1]\n",
    "                answer = last_match.group().capitalize()  # Get the last matched answer and capitalize the first letter\n",
    "                last_index = last_match.end()\n",
    "                input_text = match[2][last_index:].strip() + input_text[match.end():].strip()  # Append the remaining part back to input_text\n",
    "            else:\n",
    "                answer = \"Not Given\"  # If no Yes or No is found\n",
    "                input_text = input_text[match.end():].strip()\n",
    "            \n",
    "            # Generate a JSON entry\n",
    "            entry = {\n",
    "                \"id\": f\"{idx + 1}-{len(output_data) + 1}\",\n",
    "                \"Headline\": headline,\n",
    "                \"Question\": question,\n",
    "                \"Answer\": answer\n",
    "            }\n",
    "            output_data.append(entry)\n",
    "            \n",
    "        else:\n",
    "            break  # If no question-answer pair is found, end processing of this row\n",
    "\n",
    "# Save the results as a JSON file\n",
    "with open('reformatted_data.json', 'w') as f:\n",
    "    json.dump(output_data, f, indent=4)\n",
    "\n",
    "# Record end time\n",
    "end_time = time.time()\n",
    "\n",
    "# Calculate and print the total runtime\n",
    "total_time = end_time - start_time\n",
    "print(f\"Total time taken for dataset cleanup and transformation: {total_time:.2f} seconds\")\n",
    "\n",
    "# Print the total number of extracted question-answer pairs\n",
    "print(f\"Total number of question-answer pairs: {len(output_data)}\")\n"
   ]
  }
 ],
 "metadata": {
  "kernelspec": {
   "display_name": "Python 3 (ipykernel)",
   "language": "python",
   "name": "python3"
  },
  "language_info": {
   "codemirror_mode": {
    "name": "ipython",
    "version": 3
   },
   "file_extension": ".py",
   "mimetype": "text/x-python",
   "name": "python",
   "nbconvert_exporter": "python",
   "pygments_lexer": "ipython3",
   "version": "3.10.14"
  }
 },
 "nbformat": 4,
 "nbformat_minor": 5
}
